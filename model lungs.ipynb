{
 "cells": [
  {
   "cell_type": "code",
   "execution_count": 1,
   "metadata": {},
   "outputs": [],
   "source": [
    "import os\n",
    "from PIL import Image\n",
    "import tensorflow as tf"
   ]
  },
  {
   "cell_type": "code",
   "execution_count": 2,
   "metadata": {},
   "outputs": [],
   "source": [
    "train_covid_dir = os.path.join('/dataset/train/covid19')\n",
    "\n",
    "train_normal_dir = os.path.join('/dataset/train/normal')\n",
    "\n",
    "test_covid_dir = os.path.join('/dataset/test/covid19')\n",
    "\n",
    "test_normal_dir = os.path.join('/dataset/test/normal')"
   ]
  },
  {
   "cell_type": "code",
   "execution_count": 3,
   "metadata": {},
   "outputs": [],
   "source": [
    "model = tf.keras.models.Sequential([\n",
    "    # Note the input shape is the desired size of the image 150x150 with 3 bytes color\n",
    "    # This is the first convolution\n",
    "    tf.keras.layers.Conv2D(16, (3,3), activation='relu', input_shape=(250, 250, 3)),\n",
    "    tf.keras.layers.MaxPooling2D(2, 2),\n",
    "    # The second convolution\n",
    "    tf.keras.layers.Conv2D(32, (3,3), activation='relu'),\n",
    "    tf.keras.layers.MaxPooling2D(2,2),\n",
    "    # The third convolution\n",
    "    tf.keras.layers.Conv2D(64, (3,3), activation='relu'),\n",
    "    tf.keras.layers.MaxPooling2D(2,2),\n",
    "    # The fourth convolution\n",
    "    tf.keras.layers.Conv2D(64, (3,3), activation='relu'),\n",
    "    tf.keras.layers.MaxPooling2D(2,2),\n",
    "    # The fifth convolution\n",
    "    tf.keras.layers.Conv2D(64, (3,3), activation='relu'),\n",
    "    tf.keras.layers.MaxPooling2D(2,2),\n",
    "    # Flatten the results to feed into a DNN\n",
    "    tf.keras.layers.Flatten(),\n",
    "    # 512 neuron hidden layer\n",
    "    tf.keras.layers.Dense(512, activation='relu'),\n",
    "    # Only 1 output neuron. It will contain a value from 0-1 where 0 for 1 class ('horses') and 1 for the other ('humans')\n",
    "    tf.keras.layers.Dense(1, activation='sigmoid')\n",
    "    ])"
   ]
  },
  {
   "cell_type": "code",
   "execution_count": 4,
   "metadata": {},
   "outputs": [
    {
     "name": "stdout",
     "output_type": "stream",
     "text": [
      "Model: \"sequential\"\n",
      "_________________________________________________________________\n",
      "Layer (type)                 Output Shape              Param #   \n",
      "=================================================================\n",
      "conv2d (Conv2D)              (None, 248, 248, 16)      448       \n",
      "_________________________________________________________________\n",
      "max_pooling2d (MaxPooling2D) (None, 124, 124, 16)      0         \n",
      "_________________________________________________________________\n",
      "conv2d_1 (Conv2D)            (None, 122, 122, 32)      4640      \n",
      "_________________________________________________________________\n",
      "max_pooling2d_1 (MaxPooling2 (None, 61, 61, 32)        0         \n",
      "_________________________________________________________________\n",
      "conv2d_2 (Conv2D)            (None, 59, 59, 64)        18496     \n",
      "_________________________________________________________________\n",
      "max_pooling2d_2 (MaxPooling2 (None, 29, 29, 64)        0         \n",
      "_________________________________________________________________\n",
      "conv2d_3 (Conv2D)            (None, 27, 27, 64)        36928     \n",
      "_________________________________________________________________\n",
      "max_pooling2d_3 (MaxPooling2 (None, 13, 13, 64)        0         \n",
      "_________________________________________________________________\n",
      "conv2d_4 (Conv2D)            (None, 11, 11, 64)        36928     \n",
      "_________________________________________________________________\n",
      "max_pooling2d_4 (MaxPooling2 (None, 5, 5, 64)          0         \n",
      "_________________________________________________________________\n",
      "flatten (Flatten)            (None, 1600)              0         \n",
      "_________________________________________________________________\n",
      "dense (Dense)                (None, 512)               819712    \n",
      "_________________________________________________________________\n",
      "dense_1 (Dense)              (None, 1)                 513       \n",
      "=================================================================\n",
      "Total params: 917,665\n",
      "Trainable params: 917,665\n",
      "Non-trainable params: 0\n",
      "_________________________________________________________________\n"
     ]
    }
   ],
   "source": [
    "model.summary()"
   ]
  },
  {
   "cell_type": "code",
   "execution_count": 5,
   "metadata": {},
   "outputs": [],
   "source": [
    "from tensorflow.keras.optimizers import RMSprop\n",
    "\n",
    "model.compile(loss='binary_crossentropy',\n",
    "              optimizer=RMSprop(lr=0.001),\n",
    "              metrics=['accuracy'])"
   ]
  },
  {
   "cell_type": "code",
   "execution_count": 6,
   "metadata": {},
   "outputs": [
    {
     "name": "stdout",
     "output_type": "stream",
     "text": [
      "Found 656 images belonging to 2 classes.\n",
      "Found 157 images belonging to 2 classes.\n"
     ]
    },
    {
     "name": "stderr",
     "output_type": "stream",
     "text": [
      "/home/rootuser/project/lung-xray/venv/lib/python3.8/site-packages/keras_preprocessing/image/image_data_generator.py:342: UserWarning: This ImageDataGenerator specifies `zca_whitening` which overrides setting of`featurewise_std_normalization`.\n",
      "  warnings.warn('This ImageDataGenerator specifies '\n"
     ]
    }
   ],
   "source": [
    "from tensorflow.keras.preprocessing.image import ImageDataGenerator\n",
    "\n",
    "# All images will be rescaled by 1./255\n",
    "train_datagen = ImageDataGenerator(rescale=1/255, rotation_range=50,\n",
    " featurewise_center = True,\n",
    " featurewise_std_normalization = True,\n",
    " width_shift_range=0.2,\n",
    " height_shift_range=0.2,\n",
    " shear_range=0.25,\n",
    " zoom_range=0.1,\n",
    " zca_whitening = True,\n",
    " channel_shift_range = 20,\n",
    " horizontal_flip = True ,\n",
    " vertical_flip = True ,\n",
    " validation_split = 0.2,\n",
    " fill_mode='constant')\n",
    "\n",
    "validation_datagen = ImageDataGenerator(rescale=1/255, rotation_range=50,\n",
    " featurewise_center = True,\n",
    " featurewise_std_normalization = True,\n",
    " width_shift_range=0.2,\n",
    " height_shift_range=0.2,\n",
    " shear_range=0.25,\n",
    " zoom_range=0.1,\n",
    " zca_whitening = True,\n",
    " channel_shift_range = 20,\n",
    " horizontal_flip = True ,\n",
    " vertical_flip = True ,\n",
    " validation_split = 0.2,\n",
    " fill_mode='constant')\n",
    "\n",
    "# Flow training images in batches of 128 using train_datagen generator\n",
    "train_generator = train_datagen.flow_from_directory(\n",
    "        'dataset/train/',  # This is the source directory for training images\n",
    "        target_size=(250, 250),  # All images will be resized to 150x150\n",
    "        batch_size=128,\n",
    "        # Since we use binary_crossentropy loss, we need binary labels\n",
    "        class_mode='binary')\n",
    "\n",
    "# Flow training images in batches of 128 using train_datagen generator\n",
    "validation_generator = validation_datagen.flow_from_directory(\n",
    "        'dataset/test/',  # This is the source directory for training images\n",
    "        target_size=(250, 250),  # All images will be resized to 150x150\n",
    "        batch_size=32,\n",
    "        # Since we use binary_crossentropy loss, we need binary labels\n",
    "        class_mode='binary')"
   ]
  },
  {
   "cell_type": "code",
   "execution_count": 8,
   "metadata": {},
   "outputs": [
    {
     "name": "stdout",
     "output_type": "stream",
     "text": [
      "Epoch 1/80\n",
      "5/5 [==============================] - 20s 4s/step - loss: 0.7743 - accuracy: 0.5189 - val_loss: 0.6916 - val_accuracy: 0.5000\n",
      "Epoch 2/80\n",
      "5/5 [==============================] - 19s 4s/step - loss: 0.6925 - accuracy: 0.4811 - val_loss: 0.6865 - val_accuracy: 0.4688\n",
      "Epoch 3/80\n",
      "5/5 [==============================] - 20s 4s/step - loss: 0.7328 - accuracy: 0.5379 - val_loss: 0.6826 - val_accuracy: 0.6172\n",
      "Epoch 4/80\n",
      "5/5 [==============================] - 18s 4s/step - loss: 0.6805 - accuracy: 0.6042 - val_loss: 0.6653 - val_accuracy: 0.6016\n",
      "Epoch 5/80\n",
      "5/5 [==============================] - 22s 4s/step - loss: 0.6425 - accuracy: 0.6023 - val_loss: 0.6804 - val_accuracy: 0.5703\n",
      "Epoch 6/80\n",
      "5/5 [==============================] - 18s 4s/step - loss: 0.6729 - accuracy: 0.5777 - val_loss: 0.6301 - val_accuracy: 0.6484\n",
      "Epoch 7/80\n",
      "5/5 [==============================] - 19s 4s/step - loss: 0.6436 - accuracy: 0.6042 - val_loss: 0.6189 - val_accuracy: 0.6562\n",
      "Epoch 8/80\n",
      "5/5 [==============================] - 19s 4s/step - loss: 0.6041 - accuracy: 0.6780 - val_loss: 0.5964 - val_accuracy: 0.6719\n",
      "Epoch 9/80\n",
      "5/5 [==============================] - 21s 4s/step - loss: 0.5889 - accuracy: 0.6734 - val_loss: 0.5889 - val_accuracy: 0.6406\n",
      "Epoch 10/80\n",
      "5/5 [==============================] - 19s 4s/step - loss: 0.7283 - accuracy: 0.6269 - val_loss: 0.5989 - val_accuracy: 0.6641\n",
      "Epoch 11/80\n",
      "5/5 [==============================] - 23s 5s/step - loss: 0.5573 - accuracy: 0.7443 - val_loss: 0.6073 - val_accuracy: 0.6484\n",
      "Epoch 12/80\n",
      "5/5 [==============================] - 17s 3s/step - loss: 0.5478 - accuracy: 0.7083 - val_loss: 0.4960 - val_accuracy: 0.7656\n",
      "Epoch 13/80\n",
      "5/5 [==============================] - 19s 4s/step - loss: 0.5558 - accuracy: 0.7083 - val_loss: 0.4885 - val_accuracy: 0.7578\n",
      "Epoch 14/80\n",
      "5/5 [==============================] - 18s 4s/step - loss: 0.4915 - accuracy: 0.7576 - val_loss: 0.6033 - val_accuracy: 0.7266\n",
      "Epoch 15/80\n",
      "5/5 [==============================] - 21s 4s/step - loss: 0.5051 - accuracy: 0.7328 - val_loss: 0.5591 - val_accuracy: 0.7344\n",
      "Epoch 16/80\n",
      "5/5 [==============================] - 21s 4s/step - loss: 0.4768 - accuracy: 0.7750 - val_loss: 0.5305 - val_accuracy: 0.7500\n",
      "Epoch 17/80\n",
      "5/5 [==============================] - 19s 4s/step - loss: 0.4807 - accuracy: 0.7670 - val_loss: 0.5837 - val_accuracy: 0.7109\n",
      "Epoch 18/80\n",
      "5/5 [==============================] - 23s 5s/step - loss: 0.4002 - accuracy: 0.8314 - val_loss: 0.3833 - val_accuracy: 0.8125\n",
      "Epoch 19/80\n",
      "5/5 [==============================] - 19s 4s/step - loss: 0.5298 - accuracy: 0.7803 - val_loss: 0.3952 - val_accuracy: 0.8047\n",
      "Epoch 20/80\n",
      "5/5 [==============================] - 18s 4s/step - loss: 0.4125 - accuracy: 0.8125 - val_loss: 0.5146 - val_accuracy: 0.7188\n",
      "Epoch 21/80\n",
      "5/5 [==============================] - 19s 4s/step - loss: 0.4682 - accuracy: 0.7992 - val_loss: 0.3660 - val_accuracy: 0.8438\n",
      "Epoch 22/80\n",
      "5/5 [==============================] - 19s 4s/step - loss: 0.3662 - accuracy: 0.8352 - val_loss: 0.3405 - val_accuracy: 0.8594\n",
      "Epoch 23/80\n",
      "5/5 [==============================] - 19s 4s/step - loss: 0.3583 - accuracy: 0.8598 - val_loss: 0.3364 - val_accuracy: 0.8672\n",
      "Epoch 24/80\n",
      "5/5 [==============================] - 17s 3s/step - loss: 0.3174 - accuracy: 0.8542 - val_loss: 0.4651 - val_accuracy: 0.7969\n",
      "Epoch 25/80\n",
      "5/5 [==============================] - 21s 4s/step - loss: 0.3822 - accuracy: 0.8375 - val_loss: 0.7479 - val_accuracy: 0.6953\n",
      "Epoch 26/80\n",
      "5/5 [==============================] - 19s 4s/step - loss: 0.4796 - accuracy: 0.7992 - val_loss: 0.2811 - val_accuracy: 0.8906\n",
      "Epoch 27/80\n",
      "5/5 [==============================] - 23s 5s/step - loss: 0.5480 - accuracy: 0.7841 - val_loss: 0.4069 - val_accuracy: 0.8125\n",
      "Epoch 28/80\n",
      "5/5 [==============================] - 18s 4s/step - loss: 0.3407 - accuracy: 0.8712 - val_loss: 0.3980 - val_accuracy: 0.8203\n",
      "Epoch 29/80\n",
      "5/5 [==============================] - 17s 3s/step - loss: 0.3053 - accuracy: 0.8883 - val_loss: 0.2784 - val_accuracy: 0.8672\n",
      "Epoch 30/80\n",
      "5/5 [==============================] - 21s 4s/step - loss: 0.3438 - accuracy: 0.8828 - val_loss: 0.2794 - val_accuracy: 0.8906\n",
      "Epoch 31/80\n",
      "5/5 [==============================] - 17s 3s/step - loss: 0.3131 - accuracy: 0.8731 - val_loss: 0.4867 - val_accuracy: 0.8359\n",
      "Epoch 32/80\n",
      "5/5 [==============================] - 21s 4s/step - loss: 0.3184 - accuracy: 0.8750 - val_loss: 0.3506 - val_accuracy: 0.8750\n",
      "Epoch 33/80\n",
      "5/5 [==============================] - 17s 3s/step - loss: 0.2930 - accuracy: 0.8769 - val_loss: 0.4803 - val_accuracy: 0.7812\n",
      "Epoch 34/80\n",
      "5/5 [==============================] - 21s 4s/step - loss: 0.3366 - accuracy: 0.8578 - val_loss: 0.2915 - val_accuracy: 0.8984\n",
      "Epoch 35/80\n",
      "5/5 [==============================] - 19s 4s/step - loss: 0.2691 - accuracy: 0.9072 - val_loss: 0.3874 - val_accuracy: 0.8125\n",
      "Epoch 36/80\n",
      "5/5 [==============================] - 17s 3s/step - loss: 0.2724 - accuracy: 0.8958 - val_loss: 0.2857 - val_accuracy: 0.8828\n",
      "Epoch 37/80\n",
      "5/5 [==============================] - 18s 4s/step - loss: 0.2948 - accuracy: 0.8750 - val_loss: 0.5305 - val_accuracy: 0.7344\n",
      "Epoch 38/80\n",
      "5/5 [==============================] - 19s 4s/step - loss: 0.4937 - accuracy: 0.7348 - val_loss: 0.5242 - val_accuracy: 0.7734\n",
      "Epoch 39/80\n",
      "5/5 [==============================] - 18s 4s/step - loss: 0.3237 - accuracy: 0.8674 - val_loss: 0.2392 - val_accuracy: 0.8906\n",
      "Epoch 40/80\n",
      "5/5 [==============================] - 18s 4s/step - loss: 0.2521 - accuracy: 0.8996 - val_loss: 0.2739 - val_accuracy: 0.9141\n",
      "Epoch 41/80\n",
      "5/5 [==============================] - 19s 4s/step - loss: 0.3324 - accuracy: 0.8920 - val_loss: 0.2695 - val_accuracy: 0.8672\n",
      "Epoch 42/80\n",
      "5/5 [==============================] - 19s 4s/step - loss: 0.2259 - accuracy: 0.9261 - val_loss: 0.2483 - val_accuracy: 0.8984\n",
      "Epoch 43/80\n",
      "5/5 [==============================] - 19s 4s/step - loss: 0.2480 - accuracy: 0.9053 - val_loss: 0.2238 - val_accuracy: 0.9297\n",
      "Epoch 44/80\n",
      "5/5 [==============================] - 17s 3s/step - loss: 0.2064 - accuracy: 0.9318 - val_loss: 0.4854 - val_accuracy: 0.8438\n",
      "Epoch 45/80\n",
      "5/5 [==============================] - 18s 4s/step - loss: 0.4061 - accuracy: 0.8409 - val_loss: 0.2564 - val_accuracy: 0.9062\n",
      "Epoch 46/80\n",
      "5/5 [==============================] - 18s 4s/step - loss: 0.2251 - accuracy: 0.9091 - val_loss: 0.2204 - val_accuracy: 0.8906\n",
      "Epoch 47/80\n",
      "5/5 [==============================] - 17s 3s/step - loss: 0.2703 - accuracy: 0.8958 - val_loss: 0.2395 - val_accuracy: 0.8906\n",
      "Epoch 48/80\n",
      "5/5 [==============================] - 20s 4s/step - loss: 0.1951 - accuracy: 0.9318 - val_loss: 0.2587 - val_accuracy: 0.8594\n",
      "Epoch 49/80\n",
      "5/5 [==============================] - 19s 4s/step - loss: 0.2807 - accuracy: 0.8939 - val_loss: 0.1720 - val_accuracy: 0.9297\n",
      "Epoch 50/80\n",
      "5/5 [==============================] - 18s 4s/step - loss: 0.2095 - accuracy: 0.9337 - val_loss: 0.4883 - val_accuracy: 0.7500\n",
      "Epoch 51/80\n",
      "5/5 [==============================] - 19s 4s/step - loss: 0.3054 - accuracy: 0.8826 - val_loss: 0.2443 - val_accuracy: 0.9219\n",
      "Epoch 52/80\n",
      "5/5 [==============================] - 18s 4s/step - loss: 0.1739 - accuracy: 0.9451 - val_loss: 0.2252 - val_accuracy: 0.9219\n",
      "Epoch 53/80\n",
      "5/5 [==============================] - 18s 4s/step - loss: 0.2781 - accuracy: 0.8996 - val_loss: 0.2751 - val_accuracy: 0.8906\n",
      "Epoch 54/80\n",
      "5/5 [==============================] - 23s 5s/step - loss: 0.2658 - accuracy: 0.8845 - val_loss: 0.1730 - val_accuracy: 0.9609\n",
      "Epoch 55/80\n",
      "5/5 [==============================] - 18s 4s/step - loss: 0.1994 - accuracy: 0.9261 - val_loss: 0.2979 - val_accuracy: 0.8984\n",
      "Epoch 56/80\n",
      "5/5 [==============================] - 19s 4s/step - loss: 0.2817 - accuracy: 0.8883 - val_loss: 0.3224 - val_accuracy: 0.8672\n",
      "Epoch 57/80\n",
      "5/5 [==============================] - 23s 5s/step - loss: 0.2156 - accuracy: 0.9261 - val_loss: 0.2031 - val_accuracy: 0.9062\n",
      "Epoch 58/80\n",
      "5/5 [==============================] - 23s 5s/step - loss: 0.1840 - accuracy: 0.9356 - val_loss: 0.2866 - val_accuracy: 0.8906\n",
      "Epoch 59/80\n",
      "5/5 [==============================] - 23s 5s/step - loss: 0.3302 - accuracy: 0.8447 - val_loss: 0.2381 - val_accuracy: 0.9062\n",
      "Epoch 60/80\n"
     ]
    },
    {
     "name": "stdout",
     "output_type": "stream",
     "text": [
      "5/5 [==============================] - 19s 4s/step - loss: 0.2141 - accuracy: 0.9129 - val_loss: 0.1738 - val_accuracy: 0.9219\n",
      "Epoch 61/80\n",
      "5/5 [==============================] - 18s 4s/step - loss: 0.1672 - accuracy: 0.9432 - val_loss: 0.1802 - val_accuracy: 0.9531\n",
      "Epoch 62/80\n",
      "5/5 [==============================] - 19s 4s/step - loss: 0.1809 - accuracy: 0.9489 - val_loss: 0.1989 - val_accuracy: 0.9375\n",
      "Epoch 63/80\n",
      "5/5 [==============================] - 23s 5s/step - loss: 0.1624 - accuracy: 0.9413 - val_loss: 0.1513 - val_accuracy: 0.9531\n",
      "Epoch 64/80\n",
      "5/5 [==============================] - 17s 3s/step - loss: 0.1456 - accuracy: 0.9545 - val_loss: 0.1813 - val_accuracy: 0.9141\n",
      "Epoch 65/80\n",
      "5/5 [==============================] - 21s 4s/step - loss: 0.2637 - accuracy: 0.8813 - val_loss: 0.1711 - val_accuracy: 0.9297\n",
      "Epoch 66/80\n",
      "5/5 [==============================] - 19s 4s/step - loss: 0.2163 - accuracy: 0.9110 - val_loss: 0.3025 - val_accuracy: 0.8906\n",
      "Epoch 67/80\n",
      "5/5 [==============================] - 19s 4s/step - loss: 0.1999 - accuracy: 0.9337 - val_loss: 0.1425 - val_accuracy: 0.9609\n",
      "Epoch 68/80\n",
      "5/5 [==============================] - 17s 3s/step - loss: 0.1707 - accuracy: 0.9337 - val_loss: 0.2551 - val_accuracy: 0.9219\n",
      "Epoch 69/80\n",
      "5/5 [==============================] - 17s 3s/step - loss: 0.1526 - accuracy: 0.9470 - val_loss: 0.2841 - val_accuracy: 0.9062\n",
      "Epoch 70/80\n",
      "5/5 [==============================] - 23s 5s/step - loss: 0.2821 - accuracy: 0.8788 - val_loss: 0.2187 - val_accuracy: 0.9453\n",
      "Epoch 71/80\n",
      "5/5 [==============================] - 17s 3s/step - loss: 0.1787 - accuracy: 0.9394 - val_loss: 0.2552 - val_accuracy: 0.8984\n",
      "Epoch 72/80\n",
      "5/5 [==============================] - 19s 4s/step - loss: 0.1869 - accuracy: 0.9280 - val_loss: 0.1266 - val_accuracy: 0.9531\n",
      "Epoch 73/80\n",
      "5/5 [==============================] - 22s 4s/step - loss: 0.1440 - accuracy: 0.9602 - val_loss: 0.1824 - val_accuracy: 0.9062\n",
      "Epoch 74/80\n",
      "5/5 [==============================] - 19s 4s/step - loss: 0.1629 - accuracy: 0.9299 - val_loss: 0.1765 - val_accuracy: 0.9062\n",
      "Epoch 75/80\n",
      "5/5 [==============================] - 20s 4s/step - loss: 0.1385 - accuracy: 0.9564 - val_loss: 0.1620 - val_accuracy: 0.9609\n",
      "Epoch 76/80\n",
      "5/5 [==============================] - 23s 5s/step - loss: 0.1612 - accuracy: 0.9583 - val_loss: 0.1669 - val_accuracy: 0.9297\n",
      "Epoch 77/80\n",
      "5/5 [==============================] - 20s 4s/step - loss: 0.1531 - accuracy: 0.9527 - val_loss: 0.1466 - val_accuracy: 0.9453\n",
      "Epoch 78/80\n",
      "5/5 [==============================] - 22s 4s/step - loss: 0.1487 - accuracy: 0.9547 - val_loss: 0.2469 - val_accuracy: 0.8828\n",
      "Epoch 79/80\n",
      "5/5 [==============================] - 18s 4s/step - loss: 1.2034 - accuracy: 0.7386 - val_loss: 0.1428 - val_accuracy: 0.9609\n",
      "Epoch 80/80\n",
      "5/5 [==============================] - 21s 4s/step - loss: 0.1263 - accuracy: 0.9697 - val_loss: 0.1246 - val_accuracy: 0.9531\n"
     ]
    }
   ],
   "source": [
    "history = model.fit(\n",
    "      train_generator,\n",
    "      steps_per_epoch=5,  \n",
    "      epochs=80,\n",
    "      verbose=1,\n",
    "      validation_data = validation_generator,\n",
    "      validation_steps=4)"
   ]
  },
  {
   "cell_type": "code",
   "execution_count": 9,
   "metadata": {
    "scrolled": true
   },
   "outputs": [
    {
     "name": "stderr",
     "output_type": "stream",
     "text": [
      "Using TensorFlow backend.\n"
     ]
    },
    {
     "name": "stdout",
     "output_type": "stream",
     "text": [
      "[[0.]]\n",
      "has coronavirus\n"
     ]
    }
   ],
   "source": [
    "import numpy as np\n",
    "from keras.preprocessing import image\n",
    "\n",
    "\n",
    "\n",
    "\n",
    "path = 'covid19-2.jpeg'\n",
    "img = image.load_img(path, target_size=(250, 250))\n",
    "x = image.img_to_array(img)\n",
    "x = np.expand_dims(x, axis=0)\n",
    "\n",
    "images = np.vstack([x])\n",
    "classes = model.predict(images, batch_size=10)\n",
    "print(classes)\n",
    "if classes[0]>0.5:\n",
    "    print(\" is normal\")\n",
    "else:\n",
    "    print(\"has coronavirus\")\n"
   ]
  },
  {
   "cell_type": "code",
   "execution_count": null,
   "metadata": {},
   "outputs": [],
   "source": [
    "import matplotlib.pyplot as plt\n",
    "import numpy as np\n",
    "import random\n",
    "from tensorflow.keras.preprocessing.image import img_to_array, load_img\n",
    "\n",
    "# Let's define a new Model that will take an image as input, and will output\n",
    "# intermediate representations for all layers in the previous model after\n",
    "# the first.\n",
    "successive_outputs = [layer.output for layer in model.layers[1:]]\n",
    "#visualization_model = Model(img_input, successive_outputs)\n",
    "visualization_model = tf.keras.models.Model(inputs = model.input, outputs = successive_outputs)\n",
    "# Let's prepare a random input image from the training set.\n",
    "horse_img_files = [os.path.join(train_covid_dir, f) for f in train_horse_names]\n",
    "human_img_files = [os.path.join(train_covid_dir, f) for f in train_human_names]\n",
    "img_path = random.choice(horse_img_files + human_img_files)\n",
    "\n",
    "img = load_img(img_path, target_size=(150, 150))  # this is a PIL image\n",
    "x = img_to_array(img)  # Numpy array with shape (150, 150, 3)\n",
    "x = x.reshape((1,) + x.shape)  # Numpy array with shape (1, 150, 150, 3)\n",
    "\n",
    "# Rescale by 1/255\n",
    "x /= 255\n",
    "\n",
    "# Let's run our image through our network, thus obtaining all\n",
    "# intermediate representations for this image.\n",
    "successive_feature_maps = visualization_model.predict(x)\n",
    "\n",
    "# These are the names of the layers, so can have them as part of our plot\n",
    "layer_names = [layer.name for layer in model.layers]\n",
    "\n",
    "# Now let's display our representations\n",
    "for layer_name, feature_map in zip(layer_names, successive_feature_maps):\n",
    "    if len(feature_map.shape) == 4:\n",
    "        # Just do this for the conv / maxpool layers, not the fully-connected layers\n",
    "        n_features = feature_map.shape[-1]  # number of features in feature map\n",
    "        # The feature map has shape (1, size, size, n_features)\n",
    "        size = feature_map.shape[1]\n",
    "        # We will tile our images in this matrix\n",
    "        display_grid = np.zeros((size, size * n_features))\n",
    "        for i in range(n_features):\n",
    "          # Postprocess the feature to make it visually palatable\n",
    "          x = feature_map[0, :, :, i]\n",
    "          x -= x.mean()\n",
    "          x /= x.std()\n",
    "          x *= 64\n",
    "          x += 128\n",
    "          x = np.clip(x, 0, 255).astype('uint8')\n",
    "          # We'll tile each filter into this big horizontal grid\n",
    "          display_grid[:, i * size : (i + 1) * size] = x\n",
    "        # Display the grid\n",
    "        scale = 20. / n_features\n",
    "        plt.figure(figsize=(scale * n_features, scale))\n",
    "        plt.title(layer_name)\n",
    "        plt.grid(False)\n",
    "        plt.imshow(display_grid, aspect='auto', cmap='viridis')"
   ]
  },
  {
   "cell_type": "code",
   "execution_count": 59,
   "metadata": {},
   "outputs": [
    {
     "data": {
      "text/plain": [
       "array([1.], dtype=float32)"
      ]
     },
     "execution_count": 59,
     "metadata": {},
     "output_type": "execute_result"
    }
   ],
   "source": [
    "classes[0]"
   ]
  },
  {
   "cell_type": "code",
   "execution_count": 10,
   "metadata": {},
   "outputs": [
    {
     "name": "stdout",
     "output_type": "stream",
     "text": [
      "WARNING:tensorflow:From /home/rootuser/project/lung-xray/venv/lib/python3.8/site-packages/tensorflow/python/ops/resource_variable_ops.py:1813: calling BaseResourceVariable.__init__ (from tensorflow.python.ops.resource_variable_ops) with constraint is deprecated and will be removed in a future version.\n",
      "Instructions for updating:\n",
      "If using Keras pass *_constraint arguments to layers.\n",
      "INFO:tensorflow:Assets written to: covid_model/assets\n"
     ]
    }
   ],
   "source": [
    "model.save('covid_model')"
   ]
  },
  {
   "cell_type": "code",
   "execution_count": 11,
   "metadata": {},
   "outputs": [],
   "source": [
    "reconstructed_model = tf.keras.models.load_model('covid_model')"
   ]
  },
  {
   "cell_type": "code",
   "execution_count": 13,
   "metadata": {},
   "outputs": [
    {
     "name": "stdout",
     "output_type": "stream",
     "text": [
      "[1.]\n",
      " is normal\n"
     ]
    }
   ],
   "source": [
    "path = 'NORMAL2-IM-0285-0001.jpeg'\n",
    "img = image.load_img(path, target_size=(250, 250))\n",
    "x = image.img_to_array(img)\n",
    "x = np.expand_dims(x, axis=0)\n",
    "\n",
    "images = np.vstack([x])\n",
    "classes = reconstructed_model.predict(images, batch_size=10)\n",
    "print(classes[0])\n",
    "if classes[0]>0.5:\n",
    "    print(\" is normal\")\n",
    "else:\n",
    "    print(\"has coronavirus\")"
   ]
  },
  {
   "cell_type": "code",
   "execution_count": null,
   "metadata": {},
   "outputs": [],
   "source": []
  }
 ],
 "metadata": {
  "kernelspec": {
   "display_name": "Python 3",
   "language": "python",
   "name": "python3"
  },
  "language_info": {
   "codemirror_mode": {
    "name": "ipython",
    "version": 3
   },
   "file_extension": ".py",
   "mimetype": "text/x-python",
   "name": "python",
   "nbconvert_exporter": "python",
   "pygments_lexer": "ipython3",
   "version": "3.8.2"
  }
 },
 "nbformat": 4,
 "nbformat_minor": 4
}
